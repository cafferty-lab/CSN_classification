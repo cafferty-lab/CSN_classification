{
 "cells": [
  {
   "cell_type": "markdown",
   "id": "c65598ca",
   "metadata": {},
   "source": [
    "### Demo CSN Classification Analysis\n",
    "\n",
    "Simple example pipeline to classify CSNs among excitatory cortical neurons in M1.\n",
    "\n",
    "Similar code can also classify forelimb and hindlimb-projection among CSNs.\n",
    "\n",
    "Input data should only include excitatory neurons that have undergone preprocessing including \n",
    "library size normalization and square-root transformation.\n",
    "\n",
    "Input data format should be a pandas DataFrame with cell ID as the row names and genes as the columnnames (see sample data). Gene names should be formated to include both the official gene symbol and the ENSEMBL gene ID "
   ]
  },
  {
   "cell_type": "code",
   "execution_count": 2,
   "id": "e9fe8637",
   "metadata": {},
   "outputs": [],
   "source": [
    "import pandas as pd\n",
    "import pickle"
   ]
  },
  {
   "cell_type": "markdown",
   "id": "bd5fc18c",
   "metadata": {},
   "source": [
    "### Load files:\n",
    "\n",
    "Classifier (CSN-C) - linear SVM trained to predict X from Y\n",
    "\n",
    "Classifier gene list (gene_list) - genes used to build classifer\n",
    "\n",
    "Single cell Data (single_cell_data) - single cell data formated as a pandas DataFrame with cell ID as rows and gene ID as columns\n",
    "\n"
   ]
  },
  {
   "cell_type": "code",
   "execution_count": 4,
   "id": "ee132558",
   "metadata": {},
   "outputs": [],
   "source": [
    "#load classifier \n",
    "#CSN_C if trying to classify CSNs among neurons in M1 \n",
    "CSN-C_file = open('CSN-C', 'rb')\n",
    "CSN-C = pickle.load(CLF_file)\n",
    "CSN-C_file.close()\n",
    "\n",
    "#load classifier gene list\n",
    "gene_list = pd.read_csv('CSN-C_gene_list.csv')['gene'].values\n",
    "\n",
    "#load single cell data\n",
    "#Replace sample data with your own csv to run classifier on your data\n",
    "single_cell_data = pd.read_csv('sample_data.csv', index_col=0)"
   ]
  },
  {
   "cell_type": "markdown",
   "id": "14baa8d0",
   "metadata": {},
   "source": [
    "### Preprocess single cell data\n",
    "\n",
    "Subset data to include only genes used in the classifier"
   ]
  },
  {
   "cell_type": "code",
   "execution_count": 1,
   "id": "3f062501",
   "metadata": {},
   "outputs": [
    {
     "ename": "NameError",
     "evalue": "name 'single_cell_data' is not defined",
     "output_type": "error",
     "traceback": [
      "\u001b[0;31m---------------------------------------------------------------------------\u001b[0m",
      "\u001b[0;31mNameError\u001b[0m                                 Traceback (most recent call last)",
      "\u001b[0;32m<ipython-input-1-ec76881848df>\u001b[0m in \u001b[0;36m<module>\u001b[0;34m\u001b[0m\n\u001b[0;32m----> 1\u001b[0;31m \u001b[0msingle_cell_data_subset\u001b[0m \u001b[0;34m=\u001b[0m \u001b[0msingle_cell_data\u001b[0m\u001b[0;34m[\u001b[0m\u001b[0mgene_list\u001b[0m\u001b[0;34m]\u001b[0m\u001b[0;34m\u001b[0m\u001b[0;34m\u001b[0m\u001b[0m\n\u001b[0m",
      "\u001b[0;31mNameError\u001b[0m: name 'single_cell_data' is not defined"
     ]
    }
   ],
   "source": [
    "single_cell_data_subset = single_cell_data[gene_list]"
   ]
  },
  {
   "cell_type": "markdown",
   "id": "14bf20f1",
   "metadata": {},
   "source": [
    "### Run classifier on data\n",
    "\n",
    "Generate predicted labels (prediction) and label probabilities (prediction_probability)\n",
    "\n",
    "\n",
    "Prediction will output a binary classification for each cell (CSN or Not_CSN)\n",
    "Prediction_probability will output two probabilities: probability of being a CSN and probability of being Not_CSN"
   ]
  },
  {
   "cell_type": "code",
   "execution_count": null,
   "id": "893652a5",
   "metadata": {},
   "outputs": [],
   "source": [
    "#This will output predicted CSN classification (CSN or Not-CSN)\n",
    "prediction = CSN-C.predict(single_cell_data_subset)\n",
    "\n",
    "#This will output CSN probability\n",
    "prediction_probability = CSN-C.predict_proba(single_cell_data_subset)"
   ]
  }
 ],
 "metadata": {
  "kernelspec": {
   "display_name": "Python 3 (ipykernel)",
   "language": "python",
   "name": "python3"
  },
  "language_info": {
   "codemirror_mode": {
    "name": "ipython",
    "version": 3
   },
   "file_extension": ".py",
   "mimetype": "text/x-python",
   "name": "python",
   "nbconvert_exporter": "python",
   "pygments_lexer": "ipython3",
   "version": "3.9.7"
  }
 },
 "nbformat": 4,
 "nbformat_minor": 5
}
